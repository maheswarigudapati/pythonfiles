{
 "cells": [
  {
   "cell_type": "markdown",
   "metadata": {},
   "source": [
    "## reverse of a given number"
   ]
  },
  {
   "cell_type": "code",
   "execution_count": 10,
   "metadata": {},
   "outputs": [
    {
     "name": "stdout",
     "output_type": "stream",
     "text": [
      "122\n"
     ]
    },
    {
     "data": {
      "text/plain": [
       "'221'"
      ]
     },
     "execution_count": 10,
     "metadata": {},
     "output_type": "execute_result"
    }
   ],
   "source": [
    "n=(input())\n",
    "n[::-1]"
   ]
  },
  {
   "cell_type": "code",
   "execution_count": 13,
   "metadata": {},
   "outputs": [
    {
     "name": "stdout",
     "output_type": "stream",
     "text": [
      "526\n"
     ]
    },
    {
     "data": {
      "text/plain": [
       "int"
      ]
     },
     "execution_count": 13,
     "metadata": {},
     "output_type": "execute_result"
    }
   ],
   "source": [
    "n=(input())\n",
    "r=n[::-1]\n",
    "r=int(r)\n",
    "type(r)"
   ]
  },
  {
   "cell_type": "code",
   "execution_count": 14,
   "metadata": {},
   "outputs": [
    {
     "name": "stdout",
     "output_type": "stream",
     "text": [
      "123456987\n",
      "1\n",
      "2\n",
      "3\n",
      "4\n",
      "5\n",
      "6\n",
      "9\n",
      "8\n",
      "7\n"
     ]
    }
   ],
   "source": [
    "n=input()\n",
    "for i in (n):\n",
    "    print(i)"
   ]
  },
  {
   "cell_type": "code",
   "execution_count": 2,
   "metadata": {},
   "outputs": [
    {
     "name": "stdout",
     "output_type": "stream",
     "text": [
      "29\n",
      "29\n"
     ]
    }
   ],
   "source": [
    "def special(a):\n",
    "    b=int(a/10)\n",
    "    c=int(a%10)\n",
    "    d=b*c\n",
    "    e=b+c\n",
    "    f=int(d+e)\n",
    "    print(f)\n",
    "a=int(input())\n",
    "special(a)\n"
   ]
  },
  {
   "cell_type": "code",
   "execution_count": 2,
   "metadata": {},
   "outputs": [
    {
     "name": "stdout",
     "output_type": "stream",
     "text": [
      "29\n",
      "is a special number\n"
     ]
    }
   ],
   "source": [
    "n=input()\n",
    "s=0\n",
    "p=1\n",
    "for i in n:\n",
    "    s=s+int(i)\n",
    "    p=p*int(i)\n",
    "res=s+p\n",
    "if res==int(n):\n",
    "    print(\"is a special number\")\n",
    "else:\n",
    "    print(\"not a special number\")"
   ]
  },
  {
   "cell_type": "code",
   "execution_count": 19,
   "metadata": {},
   "outputs": [
    {
     "name": "stdout",
     "output_type": "stream",
     "text": [
      "28\n",
      "is a perfect number\n"
     ]
    }
   ],
   "source": [
    "n=int(input())\n",
    "a=0\n",
    "for i in range(1,n-1):\n",
    "     if n%i==0:\n",
    "        a=a+i     \n",
    "if n==a:\n",
    "    print(\"is a perfect number\")\n",
    "else:\n",
    "    print(\"is not a perfect number\")\n",
    "        \n"
   ]
  },
  {
   "cell_type": "code",
   "execution_count": 22,
   "metadata": {},
   "outputs": [
    {
     "name": "stdout",
     "output_type": "stream",
     "text": [
      "5\n",
      "is not a perfect number\n"
     ]
    }
   ],
   "source": [
    "def perfect(n):\n",
    "    a=0\n",
    "    for i in range(1,n-1):\n",
    "        if n%i==0:\n",
    "            a=a+i     \n",
    "    if n==a:\n",
    "        print(\"is a perfect number\")\n",
    "    else:\n",
    "        print(\"is not a perfect number\")\n",
    "n=int(input())\n",
    "perfect(n)"
   ]
  },
  {
   "cell_type": "code",
   "execution_count": 4,
   "metadata": {},
   "outputs": [
    {
     "name": "stdout",
     "output_type": "stream",
     "text": [
      "enter lb1\n",
      "enter ub100\n",
      "6\n",
      "28\n"
     ]
    }
   ],
   "source": [
    "lb=int(input(\"enter lb\"))\n",
    "ub=int(input(\"enter ub\"))\n",
    "s=0\n",
    "def findfactor(lb,s):\n",
    "    for i in range(1,lb):\n",
    "        if lb%i==0:\n",
    "            s=s+i\n",
    "    if s==lb:\n",
    "        print(lb)\n",
    "for k in range(lb,ub+1):\n",
    "    findfactor(k,s)"
   ]
  },
  {
   "cell_type": "code",
   "execution_count": 9,
   "metadata": {},
   "outputs": [
    {
     "name": "stdout",
     "output_type": "stream",
     "text": [
      "enter lb1\n",
      "enter ub10\n",
      "2\n",
      "3\n",
      "5\n",
      "7\n"
     ]
    }
   ],
   "source": [
    "lb=int(input(\"enter lb\"))\n",
    "ub=int(input(\"enter ub\"))\n",
    "s=0\n",
    "def findprime(lb,s):\n",
    "    for i in range(1,lb+1):\n",
    "        if lb%i==0:\n",
    "            s=s+1\n",
    "    if s==2:\n",
    "        print(lb)\n",
    "for k in range(lb,ub+1):\n",
    "    findprime(k,s)\n",
    "    "
   ]
  },
  {
   "cell_type": "code",
   "execution_count": null,
   "metadata": {},
   "outputs": [],
   "source": []
  }
 ],
 "metadata": {
  "kernelspec": {
   "display_name": "Python 3",
   "language": "python",
   "name": "python3"
  },
  "language_info": {
   "codemirror_mode": {
    "name": "ipython",
    "version": 3
   },
   "file_extension": ".py",
   "mimetype": "text/x-python",
   "name": "python",
   "nbconvert_exporter": "python",
   "pygments_lexer": "ipython3",
   "version": "3.7.3"
  }
 },
 "nbformat": 4,
 "nbformat_minor": 2
}
