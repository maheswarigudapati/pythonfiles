{
 "cells": [
  {
   "cell_type": "code",
   "execution_count": 2,
   "metadata": {},
   "outputs": [
    {
     "name": "stdout",
     "output_type": "stream",
     "text": [
      "enter how many times1\n",
      "45 25 46 50\n",
      "invalid\n",
      "45 25 46 50 25\n"
     ]
    }
   ],
   "source": [
    "a=int(input(\"enter how many times\"))\n",
    "for i in range(a):\n",
    "    c=input()\n",
    "    b=c.split()\n",
    "    s1=int(b[0])\n",
    "    s2=int(b[1])\n",
    "    s3=int(b[2])\n",
    "    s4=int(b[3])\n",
    "    if (s1>24 or s3>24):\n",
    "        print(\"invalid\")\n",
    "    elif (s2>60 or s4>60):\n",
    "        print(\"invalid\")\n",
    "    else:\n",
    "        c=abs((s3-s1)-1)\n",
    "    if(s2==s4):\n",
    "        c=c+1\n",
    "    d=abs(s4-s2)    \n",
    "    print(c,d)"
   ]
  },
  {
   "cell_type": "markdown",
   "metadata": {},
   "source": []
  }
 ],
 "metadata": {
  "kernelspec": {
   "display_name": "Python 3",
   "language": "python",
   "name": "python3"
  },
  "language_info": {
   "codemirror_mode": {
    "name": "ipython",
    "version": 3
   },
   "file_extension": ".py",
   "mimetype": "text/x-python",
   "name": "python",
   "nbconvert_exporter": "python",
   "pygments_lexer": "ipython3",
   "version": "3.7.3"
  }
 },
 "nbformat": 4,
 "nbformat_minor": 2
}
