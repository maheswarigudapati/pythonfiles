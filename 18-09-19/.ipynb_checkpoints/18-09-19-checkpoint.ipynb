{
 "cells": [
  {
   "cell_type": "markdown",
   "metadata": {},
   "source": [
    "## NUMBER OF MATCHSTICS USED FOR ARRANGE GIVEN NUMBER"
   ]
  },
  {
   "cell_type": "code",
   "execution_count": 27,
   "metadata": {},
   "outputs": [
    {
     "name": "stdout",
     "output_type": "stream",
     "text": [
      "45\n",
      "9\n"
     ]
    }
   ],
   "source": [
    "d={0:6,1:2,2:5,3:5,4:4,5:5,6:6,7:3,8:7,9:6}\n",
    "n=(input())\n",
    "c=0\n",
    "for i in (n):\n",
    "    c=c+d[int(i)]\n",
    "print(c)\n",
    "        "
   ]
  },
  {
   "cell_type": "markdown",
   "metadata": {},
   "source": [
    "## PROGRAM FOR WRITE COORDINATE POINTS"
   ]
  },
  {
   "cell_type": "code",
   "execution_count": 41,
   "metadata": {},
   "outputs": [
    {
     "name": "stdout",
     "output_type": "stream",
     "text": [
      "llrddrddd\n",
      "0 , -5\n"
     ]
    }
   ],
   "source": [
    "d={\"l\":-1,\"r\":+1,\"u\":+1,\"d\":-1}\n",
    "n=(input())\n",
    "c=0\n",
    "l=0\n",
    "for i in n:\n",
    "    d[(i)]\n",
    "    if i==\"l\" or i==\"r\":\n",
    "        c=c+d[i]\n",
    "    else:\n",
    "        l=l+d[i]\n",
    "print(c,\",\",l)    \n"
   ]
  },
  {
   "cell_type": "code",
   "execution_count": 2,
   "metadata": {},
   "outputs": [
    {
     "name": "stdout",
     "output_type": "stream",
     "text": [
      "lruddu\n",
      "0 0\n"
     ]
    }
   ],
   "source": [
    "n=input()\n",
    "x=0\n",
    "y=0\n",
    "for i in n:\n",
    "    if i=='l':\n",
    "        x=x-1\n",
    "    if i=='r':\n",
    "        x=x+1\n",
    "    if i=='u':\n",
    "        y=y+1\n",
    "    if i=='d':\n",
    "        y=y-1\n",
    "print(x,y)        "
   ]
  },
  {
   "cell_type": "markdown",
   "metadata": {},
   "source": [
    "### FILES CONCEPT"
   ]
  },
  {
   "cell_type": "code",
   "execution_count": 55,
   "metadata": {},
   "outputs": [],
   "source": [
    "filepath=\"./files/sample.txt\"\n",
    "with open(filepath,'w') as f :\n",
    "    f.write(\"this is my first line\")"
   ]
  },
  {
   "cell_type": "markdown",
   "metadata": {},
   "source": [
    "## TO STORE MULTIPLE LINES IN A FILE"
   ]
  },
  {
   "cell_type": "code",
   "execution_count": 56,
   "metadata": {},
   "outputs": [],
   "source": [
    "filepath=\"./files/sample.txt\"\n",
    "with open(filepath,'w') as f :\n",
    "    f.write(\"this is my first line\\n\")\n",
    "    f.write(\"this is my second line\\n\")\n",
    "   "
   ]
  },
  {
   "cell_type": "markdown",
   "metadata": {},
   "source": [
    "## APPEND"
   ]
  },
  {
   "cell_type": "code",
   "execution_count": 57,
   "metadata": {},
   "outputs": [],
   "source": [
    "filepath=\"./files/sample.txt\"\n",
    "with open(filepath,'a') as f :\n",
    "    f.write(\"this is my third line\\n\")"
   ]
  },
  {
   "cell_type": "markdown",
   "metadata": {},
   "source": [
    "## READ"
   ]
  },
  {
   "cell_type": "code",
   "execution_count": 58,
   "metadata": {},
   "outputs": [
    {
     "name": "stdout",
     "output_type": "stream",
     "text": [
      "this is my first line\n",
      "this is my second line\n",
      "this is my third line\n",
      "\n"
     ]
    }
   ],
   "source": [
    "filepath=\"./files/sample.txt\"\n",
    "with open(filepath,'r') as f :\n",
    "    data=f.read()\n",
    "    print(data)"
   ]
  },
  {
   "cell_type": "markdown",
   "metadata": {},
   "source": [
    "## PRINT PARTICULAR LINE IN A FILE"
   ]
  },
  {
   "cell_type": "code",
   "execution_count": 63,
   "metadata": {},
   "outputs": [
    {
     "name": "stdout",
     "output_type": "stream",
     "text": [
      "this is my second line\n",
      "\n"
     ]
    }
   ],
   "source": [
    "filepath=\"./files/sample.txt\"\n",
    "with open(filepath,'r') as f :\n",
    "    data=f.readlines()\n",
    "    l=list(data) \n",
    "    print(l[1])\n",
    "        "
   ]
  },
  {
   "cell_type": "code",
   "execution_count": 67,
   "metadata": {},
   "outputs": [
    {
     "name": "stdout",
     "output_type": "stream",
     "text": [
      "['uma', 'mahi', 'siri', 'honey']\n"
     ]
    }
   ],
   "source": [
    "l=[\"uma\",\"mahi\",\"siri\",\"honey\",\"honey\",\"siri\"]\n",
    "t=[]\n",
    "for i in l:\n",
    "    if i not in t:\n",
    "        t.append(i)\n",
    "print(t)\n"
   ]
  },
  {
   "cell_type": "markdown",
   "metadata": {},
   "source": [
    "## COUNT OF DIVISORS BETWEEN THE RANGE"
   ]
  },
  {
   "cell_type": "code",
   "execution_count": 4,
   "metadata": {},
   "outputs": [
    {
     "name": "stdout",
     "output_type": "stream",
     "text": [
      "1 10 2\n",
      "5\n"
     ]
    }
   ],
   "source": [
    "n=input()\n",
    "n=n.split()\n",
    "lb=int(n[0])\n",
    "ub=int(n[1])\n",
    "a=int(n[2])\n",
    "c=0\n",
    "for i in range(lb,ub+1):\n",
    "    if i%a==0:\n",
    "        c=c+1\n",
    "print(c)    "
   ]
  },
  {
   "cell_type": "code",
   "execution_count": 5,
   "metadata": {},
   "outputs": [
    {
     "name": "stdout",
     "output_type": "stream",
     "text": [
      "this is my first line\n",
      "this is my second line\n",
      "this is my third line\n",
      "\n",
      "\n",
      "this is my first line\n",
      "this is my second line\n",
      "this is my third line\n",
      "\n"
     ]
    }
   ],
   "source": [
    "filepath=\"./files/sample.txt\"\n",
    "with open(filepath,'r') as f :\n",
    "    lines=f.read()\n",
    "    print(lines)\n",
    "    r=f.readline()\n",
    "    print(r)\n",
    "    line=f.readlines()\n",
    "    print(lines)"
   ]
  },
  {
   "cell_type": "code",
   "execution_count": 10,
   "metadata": {},
   "outputs": [
    {
     "name": "stdout",
     "output_type": "stream",
     "text": [
      "this is my first line\n",
      "this is my second line\n",
      "this is my third line\n",
      "\n",
      "words= 15\n",
      "letters= 67\n"
     ]
    }
   ],
   "source": [
    "filepath=\"./files/sample.txt\"\n",
    "with open(filepath,'r') as f :\n",
    "    data=f.read()\n",
    "    print(data)\n",
    "m=data.split()\n",
    "words=0\n",
    "for i in m:\n",
    "    words=words+1\n",
    "print(\"words=\",words)\n",
    "print(\"letters=\",len(data))"
   ]
  },
  {
   "cell_type": "code",
   "execution_count": null,
   "metadata": {},
   "outputs": [],
   "source": []
  }
 ],
 "metadata": {
  "kernelspec": {
   "display_name": "Python 3",
   "language": "python",
   "name": "python3"
  },
  "language_info": {
   "codemirror_mode": {
    "name": "ipython",
    "version": 3
   },
   "file_extension": ".py",
   "mimetype": "text/x-python",
   "name": "python",
   "nbconvert_exporter": "python",
   "pygments_lexer": "ipython3",
   "version": "3.7.3"
  }
 },
 "nbformat": 4,
 "nbformat_minor": 2
}
